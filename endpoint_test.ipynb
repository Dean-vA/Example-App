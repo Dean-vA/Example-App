{
 "cells": [
  {
   "attachments": {},
   "cell_type": "markdown",
   "metadata": {},
   "source": [
    "## Process the input image"
   ]
  },
  {
   "cell_type": "code",
   "execution_count": 104,
   "metadata": {},
   "outputs": [
    {
     "data": {
      "text/plain": [
       "<matplotlib.image.AxesImage at 0x221dd5bacd0>"
      ]
     },
     "execution_count": 104,
     "metadata": {},
     "output_type": "execute_result"
    },
    {
     "data": {
      "image/png": "[encoded data removed]",
      "text/plain": [
       "<Figure size 640x480 with 1 Axes>"
      ]
     },
     "metadata": {},
     "output_type": "display_data"
    }
   ],
   "source": [
    "import base64\n",
    "from PIL import Image\n",
    "import numpy as np\n",
    "from matplotlib import pyplot as plt\n",
    "\n",
    "# Open the image, convert it to grayscale, and resize it\n",
    "img = Image.open('./data/4.png')\n",
    "data = np.array(img)\n",
    "plt.imshow(data, cmap='gray')"
   ]
  },
  {
   "cell_type": "code",
   "execution_count": 105,
   "metadata": {},
   "outputs": [
    {
     "name": "stdout",
     "output_type": "stream",
     "text": [
      "img_base64_str: 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\n"
     ]
    }
   ],
   "source": [
    "from PIL import Image\n",
    "import base64\n",
    "import io\n",
    "\n",
    "# Open the image file\n",
    "img = Image.open('./data/9.png')\n",
    "\n",
    "# Create a BytesIO object\n",
    "buffered = io.BytesIO()\n",
    "\n",
    "# Save the image as jpeg to the BytesIO object\n",
    "img.save(buffered, format='png')\n",
    "\n",
    "# Get the byte value of the BytesIO object\n",
    "img_byte = buffered.getvalue()\n",
    "\n",
    "# Encode the byte to base64\n",
    "img_base64 = base64.b64encode(img_byte)\n",
    "\n",
    "# If you want to decode to string for storing in json or db\n",
    "img_base64_str = img_base64.decode()\n",
    "\n",
    "print(f\"img_base64_str: {img_base64_str}\")\n",
    "\n",
    "base64_image = img_base64_str"
   ]
  },
  {
   "attachments": {},
   "cell_type": "markdown",
   "metadata": {},
   "source": [
    "## Define the endpoint name and auth key"
   ]
  },
  {
   "cell_type": "code",
   "execution_count": 106,
   "metadata": {},
   "outputs": [],
   "source": [
    "endpoint_name = 'mnist-endpt-06151042538448'\n",
    "key = 'FoA00MnhTamlBgDZIfwHxMhgHbnT1Ubd'"
   ]
  },
  {
   "attachments": {},
   "cell_type": "markdown",
   "metadata": {},
   "source": [
    "## Create and send the POST request to the endpoint"
   ]
  },
  {
   "cell_type": "code",
   "execution_count": 111,
   "metadata": {},
   "outputs": [
    {
     "name": "stdout",
     "output_type": "stream",
     "text": [
      "{\"data\": \"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\"}\n",
      "\"8\"\n"
     ]
    }
   ],
   "source": [
    "import requests\n",
    "import json\n",
    "\n",
    "# Set the endpoint URL\n",
    "url = f\"https://{endpoint_name}.westeurope.inference.ml.azure.com/score\"\n",
    "# Set the authentication key\n",
    "headers = {'Authorization': f'Bearer {key}'}\n",
    "# Create the data payload\n",
    "data = {\"data\": base64_image}\n",
    "# Send the POST request and get the response\n",
    "print(json.dumps(data))\n",
    "response = requests.post(url, headers=headers, data=json.dumps(data))\n",
    "print(response.text)"
   ]
  },
  {
   "attachments": {},
   "cell_type": "markdown",
   "metadata": {},
   "source": [
    "## Print the result of the prediction"
   ]
  },
  {
   "cell_type": "code",
   "execution_count": 108,
   "metadata": {},
   "outputs": [
    {
     "name": "stdout",
     "output_type": "stream",
     "text": [
      "Predicted number is: 8\n"
     ]
    }
   ],
   "source": [
    "# Get the prediction from the response\n",
    "prediction = json.loads(response.content)\n",
    "print(\"Predicted number is:\", prediction)"
   ]
  },
  {
   "attachments": {},
   "cell_type": "markdown",
   "metadata": {},
   "source": [
    "## Challenge: Try the with a different image"
   ]
  },
  {
   "cell_type": "code",
   "execution_count": 112,
   "metadata": {},
   "outputs": [
    {
     "name": "stdout",
     "output_type": "stream",
     "text": [
      "{\"data\": \"iVBORw0KGgoAAAANSUhEUgAAALUAAADOCAIAAAD31NT8AAAHuElEQVR4nO3dIXTaWgCH8fveeefsuiHrVjemhqRubpsrjrlJpoYbVWwKiVynwHGmuqnNrVWkijpw1LEpcO0UT+Ssp4+Sf5ICyb15308WWu6y79zcBEj+Wi6XBojwd94DgNPoAwp9QKEPKPQBhT6g0AcU+oBCH1DoAwp9QKEPKPQBhT6g0AcU+oBCH1DoAwp9QKEPKPQBhT6g0AcU+oBCH1DoAwp9QKEPKPQBhT6g/JP3AHZiMpkEQXB5eXm/X9/f369UKpVKZZtj8lPR+ri4uDg6Ovr+/fvmf6parT5//vz2T/6P3SwLYTQa9Xq9Fy9eZLDFqtXqcDjM+1+cEe/7GI1G2WRxt5JerzcajWKH9+PHj9inOcvjPvIq424oa6eT+Xx+e3jVanU8Hme/lTbkZR8rm94FK9PJfD6vVqsrzymXy1dXV7luudT862PtpndHOE88e/Zs7aMnJyd5b790POtjNBq5HEeoVCpFPdRut/PehOl4c3y7WCxevXqV6sDVWttoNB4+fJj8V37//n18fLxYLFKP75YNf90pfvSxWCxevnwZBEHyX7HW9nq9er2e9rXevn17fHy88sNPnz79/Pkz7Z8qgrwnsESidud3WWubzWa3253NZlscwHw+73a7e3t7G25t9i/bFwTB6elp7NOste/evWs0Gpv/L95VKpWazebr16/7/f5isdjKbsgPeQcaI8nRirW23W5vd8KINZvNWq2WWIqu5d384XQfCeMYDAZ5jXA2m7Xb7eQzFn1sU+yyI984bgyHw4SJeNeHu5//iF12NBqN6XR6jyOUrQvPiW1lAesap/sQj4ZrDnf+P8IFbLfbzXsgW+ZuH1+/fo16KDy34U4cN4p3jsTRPsTO5d4nvjJQvCNeR/s4OjqKeqjZbLoZhzHm7Ows7yFsmYt96JXp48ePMxxLCgnP4/nF0T6iHrLWuvbJjxtizvOXi32IlWmn03FwWWoSTx77+/s7H8pWOdeHXpk6u/JI8t6yy5NfFBf7iHqo2Wy6OXmYZEcuLo8/inN9iJ2LsyvThB48eJD3EFJzqw+9c3F5ci7ekW3IuT6iHnJ5ci7q4tS41ofYi7u8cynq4tS41kcUxzduURenxpc+HN+45+fnsc9xef4T/OjD5ZX/xcVF7LcuHJ//BD/6cFmSlanj859AH5tKsvhwef7T6CMLPh7Zhuhj5/xdfBj62FzswYu/iw/jSx+fP3++vr7OexRrJDl48XfxYXzpYzKZfPnyJe9RrJHk4CXtd+yc4lYf1tqohz58+DCZTLIcTBKxBy/W2sPDwyyGshtu9SEuHTmZTGq1moOJaL1ez9+DF2Mc+3721dWV3prlctmdq7zFfj242WzmPcZNuTV/hN+nFat9p2aRWq2m37l9+vRpZoPZlbwDXWMwGOgxu3AhwOFwqAdprc34khO74Nb8ETo8PNR7mclk0u/3MxpNhNjPfHh92uOGi33E7mWMMW/evDk4OMhxRxN75OLpG/orXOzDGFOtVk9OTnQiQRC4sxZZ4fU59f/IewenJLnuSl5rEX3tmm63m/2QdsHpPpYJ1qrGmI8fP2Y8Kr04LcbKNOR6H7FnREJZXv0+9hrOnU4nm5FkwPU+lomv7pXBqbMk9wWw1k6n050OI0se9LFcLufzeafTiX2jq1wu7+7OPQnvC1CkyWPpSx+hJGsRs5t9TcI4CjZ5LP3qI+FaxBhTLpeT3NwpoeQ3jWi1Wlt5RXf41McyzZVGQwnvAhZlPB6nOo3h3eVNY3nWxzJ9IjehJF+a3Ptuh/ThhHvfTSG2krQTRuH78OD+DXeFF6OtVqu1Wi3VJUeDIDg4OLh7Y9vQ+fn5Vm6cWyh5B7qRhMe9mSne/OHo+3MJlUqlVqv17du3AryT7ia/+wiFJzycmkgKowh9mD8TyXg83ulF+8ObArRarR39fQd5uT6Nsre39/79+2azud27gIX3wXz06FG9Xg9fIuqZfn9Ufa28F0C7db+TJTfCux2unK1vt9tRTy7M2/o3CjV/3BUuTfr9/q9fv5LPJSsTRsLXKsYHTlcUvA/z52SJibix7Vr1er1cLqd9Ia+/Zxul+H3c0EsHrFWQ4xfsCH1AoQ8o9AGFPqDQBxT6gEIfUOgDCn1AoQ8o9AGFPqDQBxT6gEIfUOgDCn1AoQ8o9AGFPqDQBxT6gEIfUOgDCn1AoQ8o9AGFPqDQBxT6gEIfUOgDCn1AoQ8o9AGFPqDQBxT6gEIfUOgDCn1AoQ8o9AGFPlI7OzvLewjZoY90giA4PT3NexTZoY90giDIewiZoo90xB2oCnjzOfrYFmvtJjdmdxZ9bEchbz5n6GNbCnnzOUMf0OgDCn1AoQ8o9AGFPqDQBxT6gEIfUOgDCn1AoQ8o9AGFPqDQRzrW2ryHkCn6SKdSqaz9eSE/XGiM+Wu5XOY9Bp9cX18/efLk8vLy9g+ttdPplM+PwVhrB4PB7RSstb1er5BxGOaP+1ksFv1+f7FYlEqler1e1DgMfUBj/wKFPqDQBxT6gEIfUOgDCn1AoQ8o9AGFPqDQBxT6gEIfUOgDCn1AoQ8o9AGFPqDQBxT6gEIfUOgDCn1AoQ8o9AGFPqDQBxT6gEIfUOgDCn1AoQ8o9AGFPqDQBxT6gEIfUP4FvHm2EOaWTbAAAAAASUVORK5CYII=\"}\n",
      "<!-- IE friendly error message walkround.        \n",
      "     if error message from server is less than   \n",
      "     512 bytes IE v5+ will use its own error     \n",
      "     message instead of the one returned by      \n",
      "     server.                                 --> \n",
      "                                                 \n",
      "                                                 \n",
      "                                                 \n",
      "                                                 \n",
      "                                                 \n",
      "                                                 \n",
      "<!DOCTYPE html>\n",
      "<html lang=\"en\">\n",
      "    <head>\n",
      "        <meta charset=\"UTF-8\">\n",
      "        <meta http-equiv=\"X-UA-Compatible\" content=\"IE=8; IE=EDGE\">\n",
      "        <meta name=\"viewport\" content=\"width=device-width, initial-scale=1\">\n",
      "        <style type=\"text/css\">\n",
      "            body {\n",
      "                height: 100%;\n",
      "                font-family: Helvetica, Arial, sans-serif;\n",
      "                color: #6a6a6a;\n",
      "                margin: 0;\n",
      "                display: flex;\n",
      "                align-items: center;\n",
      "                justify-content: center;\n",
      "            }\n",
      "            input[type=date], input[type=email], input[type=number], input[type=password], input[type=search], input[type=tel], input[type=text], input[type=time], input[type=url], select, textarea {\n",
      "                color: #262626;\n",
      "                vertical-align: baseline;\n",
      "                margin: .2em;\n",
      "                border-style: solid;\n",
      "                border-width: 1px;\n",
      "                border-color: #a9a9a9;\n",
      "                background-color: #fff;\n",
      "                box-sizing: border-box;\n",
      "                padding: 2px .5em;\n",
      "                appearance: none;\n",
      "                border-radius: 0;\n",
      "            }\n",
      "            input:focus {\n",
      "                border-color: #646464;\n",
      "                box-shadow: 0 0 1px 0 #a2a2a2;\n",
      "                outline: 0;\n",
      "            }\n",
      "            button {\n",
      "                padding: .5em 1em;\n",
      "                border: 1px solid;\n",
      "                border-radius: 3px;\n",
      "                min-width: 6em;\n",
      "                font-weight: 400;\n",
      "                font-size: .8em;\n",
      "                cursor: pointer;\n",
      "            }\n",
      "            button.primary {\n",
      "                color: #fff;\n",
      "                background-color: rgb(47, 113, 178);\n",
      "                border-color: rgb(34, 103, 173);\n",
      "            }\n",
      "            .message-container {\n",
      "                height: 500px;\n",
      "                width: 600px;\n",
      "                padding: 0;\n",
      "                margin: 10px;\n",
      "            }\n",
      "            .logo {\n",
      "                background: url(https://globalurl.fortinet.net:8010/XX/YY/ZZ/CI/MGPGHGPGPFGHDDPFGGHGFHBGCHEGPFBGAHAH) no-repeat left center;\n",
      "                height: 267px;\n",
      "                object-fit: contain;\n",
      "            }\n",
      "            table {\n",
      "                background-color: #fff;\n",
      "                border-spacing: 0;\n",
      "                margin: 1em;\n",
      "            }\n",
      "            table > tbody > tr > td:first-of-type:not([colspan]) {\n",
      "                white-space: nowrap;\n",
      "                color: rgba(0,0,0,.5);\n",
      "            }\n",
      "            table > tbody > tr > td:first-of-type {\n",
      "                vertical-align: top;\n",
      "            }\n",
      "            table > tbody > tr > td {\n",
      "                padding: .3em .3em;\n",
      "            }\n",
      "            .field {\n",
      "                display: table-row;\n",
      "            }\n",
      "            .field > :first-child {\n",
      "                display: table-cell;\n",
      "                width: 20%;\n",
      "            }\n",
      "            .field.single > :first-child {\n",
      "                display: inline;\n",
      "            }\n",
      "            .field > :not(:first-child) {\n",
      "                width: auto;\n",
      "                max-width: 100%;\n",
      "                display: inline-flex;\n",
      "                align-items: baseline;\n",
      "                virtical-align: top;\n",
      "                box-sizing: border-box;\n",
      "                margin: .3em;\n",
      "            }\n",
      "            .field > :not(:first-child) > input {\n",
      "                width: 230px;\n",
      "            }\n",
      "            .form-footer {\n",
      "                display: inline-flex;\n",
      "                justify-content: flex-start;\n",
      "            }\n",
      "            .form-footer > * {\n",
      "                margin: 1em;\n",
      "            }\n",
      "            .text-scrollable {\n",
      "                overflow: auto;\n",
      "                height: 150px;\n",
      "                border: 1px solid rgb(200, 200, 200);\n",
      "                padding: 5px;\n",
      "                font-size: 1em;\n",
      "            }\n",
      "            .text-centered {\n",
      "                text-align: center;\n",
      "            }\n",
      "            .text-container {\n",
      "                margin: 1em 1.5em;\n",
      "            }\n",
      "            .flex-container {\n",
      "                display: flex;\n",
      "            }\n",
      "            .flex-container.column {\n",
      "                flex-direction: column;\n",
      "            }\n",
      "        </style>\n",
      "        <title>Web Filter Violation</title>\n",
      "    </head>\n",
      "    <body><div class=\"message-container\">\n",
      "    <div class=\"logo\"></div>\n",
      "    <h1>FortiGuard Intrusion Prevention - Access Blocked</h1>\n",
      "    <h3>Web Page Blocked</h3>\n",
      "    <p>You have tried to access a web page that is in violation of your Internet usage policy.</p>\n",
      "    <table><tbody>\n",
      "        <tr>\n",
      "            <td>Category</td>\n",
      "            <td>Unrated</td>\n",
      "        </tr>\n",
      "        <tr>\n",
      "            <td>URL</td>\n",
      "            <td>http://20.8.54.190/predict/</td>\n",
      "        </tr>\n",
      "    </tbody></table>\n",
      "    <p>To have the rating of this web page re-evaluated <a href=\"https://globalurl.fortinet.net/rate/submit.php?id=1E1C71261D35537A647338732A7B3726&cat=00&loc=http://20%2e8%2e54%2e190%2fpredict%2f&ver=8\">please click here</a>.</p>\n",
      "    <p></p>\n",
      "</div></body>\n",
      "</html>\n",
      "\n",
      "\n"
     ]
    },
    {
     "ename": "JSONDecodeError",
     "evalue": "Expecting value: line 1 column 1 (char 0)",
     "output_type": "error",
     "traceback": [
      "\u001b[1;31m---------------------------------------------------------------------------\u001b[0m",
      "\u001b[1;31mJSONDecodeError\u001b[0m                           Traceback (most recent call last)",
      "Cell \u001b[1;32mIn[112], line 15\u001b[0m\n\u001b[0;32m     13\u001b[0m \u001b[39mprint\u001b[39m(response\u001b[39m.\u001b[39mtext)\n\u001b[0;32m     14\u001b[0m \u001b[39m# Get the prediction from the response\u001b[39;00m\n\u001b[1;32m---> 15\u001b[0m prediction \u001b[39m=\u001b[39m json\u001b[39m.\u001b[39;49mloads(response\u001b[39m.\u001b[39;49mcontent)\n\u001b[0;32m     16\u001b[0m \u001b[39mprint\u001b[39m(\u001b[39m\"\u001b[39m\u001b[39mPredicted number is:\u001b[39m\u001b[39m\"\u001b[39m, prediction)\n",
      "File \u001b[1;32m~\\Anaconda3\\lib\\json\\__init__.py:346\u001b[0m, in \u001b[0;36mloads\u001b[1;34m(s, cls, object_hook, parse_float, parse_int, parse_constant, object_pairs_hook, **kw)\u001b[0m\n\u001b[0;32m    341\u001b[0m     s \u001b[39m=\u001b[39m s\u001b[39m.\u001b[39mdecode(detect_encoding(s), \u001b[39m'\u001b[39m\u001b[39msurrogatepass\u001b[39m\u001b[39m'\u001b[39m)\n\u001b[0;32m    343\u001b[0m \u001b[39mif\u001b[39;00m (\u001b[39mcls\u001b[39m \u001b[39mis\u001b[39;00m \u001b[39mNone\u001b[39;00m \u001b[39mand\u001b[39;00m object_hook \u001b[39mis\u001b[39;00m \u001b[39mNone\u001b[39;00m \u001b[39mand\u001b[39;00m\n\u001b[0;32m    344\u001b[0m         parse_int \u001b[39mis\u001b[39;00m \u001b[39mNone\u001b[39;00m \u001b[39mand\u001b[39;00m parse_float \u001b[39mis\u001b[39;00m \u001b[39mNone\u001b[39;00m \u001b[39mand\u001b[39;00m\n\u001b[0;32m    345\u001b[0m         parse_constant \u001b[39mis\u001b[39;00m \u001b[39mNone\u001b[39;00m \u001b[39mand\u001b[39;00m object_pairs_hook \u001b[39mis\u001b[39;00m \u001b[39mNone\u001b[39;00m \u001b[39mand\u001b[39;00m \u001b[39mnot\u001b[39;00m kw):\n\u001b[1;32m--> 346\u001b[0m     \u001b[39mreturn\u001b[39;00m _default_decoder\u001b[39m.\u001b[39;49mdecode(s)\n\u001b[0;32m    347\u001b[0m \u001b[39mif\u001b[39;00m \u001b[39mcls\u001b[39m \u001b[39mis\u001b[39;00m \u001b[39mNone\u001b[39;00m:\n\u001b[0;32m    348\u001b[0m     \u001b[39mcls\u001b[39m \u001b[39m=\u001b[39m JSONDecoder\n",
      "File \u001b[1;32m~\\Anaconda3\\lib\\json\\decoder.py:337\u001b[0m, in \u001b[0;36mJSONDecoder.decode\u001b[1;34m(self, s, _w)\u001b[0m\n\u001b[0;32m    332\u001b[0m \u001b[39mdef\u001b[39;00m \u001b[39mdecode\u001b[39m(\u001b[39mself\u001b[39m, s, _w\u001b[39m=\u001b[39mWHITESPACE\u001b[39m.\u001b[39mmatch):\n\u001b[0;32m    333\u001b[0m \u001b[39m    \u001b[39m\u001b[39m\"\"\"Return the Python representation of ``s`` (a ``str`` instance\u001b[39;00m\n\u001b[0;32m    334\u001b[0m \u001b[39m    containing a JSON document).\u001b[39;00m\n\u001b[0;32m    335\u001b[0m \n\u001b[0;32m    336\u001b[0m \u001b[39m    \"\"\"\u001b[39;00m\n\u001b[1;32m--> 337\u001b[0m     obj, end \u001b[39m=\u001b[39m \u001b[39mself\u001b[39;49m\u001b[39m.\u001b[39;49mraw_decode(s, idx\u001b[39m=\u001b[39;49m_w(s, \u001b[39m0\u001b[39;49m)\u001b[39m.\u001b[39;49mend())\n\u001b[0;32m    338\u001b[0m     end \u001b[39m=\u001b[39m _w(s, end)\u001b[39m.\u001b[39mend()\n\u001b[0;32m    339\u001b[0m     \u001b[39mif\u001b[39;00m end \u001b[39m!=\u001b[39m \u001b[39mlen\u001b[39m(s):\n",
      "File \u001b[1;32m~\\Anaconda3\\lib\\json\\decoder.py:355\u001b[0m, in \u001b[0;36mJSONDecoder.raw_decode\u001b[1;34m(self, s, idx)\u001b[0m\n\u001b[0;32m    353\u001b[0m     obj, end \u001b[39m=\u001b[39m \u001b[39mself\u001b[39m\u001b[39m.\u001b[39mscan_once(s, idx)\n\u001b[0;32m    354\u001b[0m \u001b[39mexcept\u001b[39;00m \u001b[39mStopIteration\u001b[39;00m \u001b[39mas\u001b[39;00m err:\n\u001b[1;32m--> 355\u001b[0m     \u001b[39mraise\u001b[39;00m JSONDecodeError(\u001b[39m\"\u001b[39m\u001b[39mExpecting value\u001b[39m\u001b[39m\"\u001b[39m, s, err\u001b[39m.\u001b[39mvalue) \u001b[39mfrom\u001b[39;00m \u001b[39mNone\u001b[39;00m\n\u001b[0;32m    356\u001b[0m \u001b[39mreturn\u001b[39;00m obj, end\n",
      "\u001b[1;31mJSONDecodeError\u001b[0m: Expecting value: line 1 column 1 (char 0)"
     ]
    }
   ],
   "source": [
    "import requests\n",
    "import json\n",
    "\n",
    "# Set the endpoint URL\n",
    "url = \"http://20.8.54.190:80/predict/\"\n",
    "# Set the authentication key\n",
    "#headers = {'Authorization': f'Bearer {key}'}\n",
    "# Create the data payload\n",
    "data = {\"data\": base64_image}\n",
    "# Send the POST request and get the response\n",
    "print(json.dumps(data))\n",
    "response = requests.post(url, data=json.dumps(data))\n",
    "print(response.text)\n",
    "# Get the prediction from the response\n",
    "prediction = json.loads(response.content)\n",
    "print(\"Predicted number is:\", prediction)"
   ]
  },
  {
   "cell_type": "code",
   "execution_count": 103,
   "metadata": {},
   "outputs": [
    {
     "name": "stdout",
     "output_type": "stream",
     "text": [
      "{'prediction': 4, 'confidence': 99}\n"
     ]
    }
   ],
   "source": [
    "import requests\n",
    "\n",
    "from PIL import Image\n",
    "import base64\n",
    "import io\n",
    "\n",
    "# Open the image file\n",
    "img = Image.open('./data/10-b.png')\n",
    "\n",
    "# Create a BytesIO object\n",
    "buffered = io.BytesIO()\n",
    "\n",
    "# Save the image as jpeg to the BytesIO object\n",
    "img.save(buffered, format='png')\n",
    "\n",
    "# Get the byte value of the BytesIO object\n",
    "img_byte = buffered.getvalue()\n",
    "\n",
    "# Encode the byte to base64\n",
    "img_base64 = base64.b64encode(img_byte)\n",
    "\n",
    "# If you want to decode to string for storing in json or db\n",
    "img_base64_str = img_base64.decode()\n",
    "\n",
    "print(f\"img_base64_str: {img_base64_str}\")\n",
    "\n",
    "base64_image = img_base64_str\n",
    "\n",
    "# The URL of the API\n",
    "api_url = 'https://digit-predict-api.greenwave-60ab4ae3.westeurope.azurecontainerapps.io/'#'http://98.64.136.237:80/'\n",
    "endpoint = 'predict_file/'\n",
    "url = api_url + endpoint\n",
    "\n",
    "# Load the image file\n",
    "image_file = open('./data/4.png', 'rb')\n",
    "\n",
    "# Create the payload\n",
    "payload = {'image_file': image_file}\n",
    "\n",
    "# Send the POST request\n",
    "response = requests.post(url, files=payload)\n",
    "\n",
    "# Print the response\n",
    "print(response.json())"
   ]
  },
  {
   "cell_type": "code",
   "execution_count": null,
   "metadata": {},
   "outputs": [],
   "source": []
  }
 ],
 "metadata": {
  "kernelspec": {
   "display_name": ".venv",
   "language": "python",
   "name": "python3"
  },
  "language_info": {
   "codemirror_mode": {
    "name": "ipython",
    "version": 3
   },
   "file_extension": ".py",
   "mimetype": "text/x-python",
   "name": "python",
   "nbconvert_exporter": "python",
   "pygments_lexer": "ipython3",
   "version": "3.9.12"
  },
  "orig_nbformat": 4
 },
 "nbformat": 4,
 "nbformat_minor": 2
}
