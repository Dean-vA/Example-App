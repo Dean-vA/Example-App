{
 "cells": [
  {
   "attachments": {},
   "cell_type": "markdown",
   "metadata": {},
   "source": [
    "# Connect to the Workspace and MLClient"
   ]
  },
  {
   "cell_type": "code",
   "execution_count": 1,
   "metadata": {},
   "outputs": [
    {
     "name": "stderr",
     "output_type": "stream",
     "text": [
      "Warning: Falling back to use azure cli login credentials.\n",
      "If you run your code in unattended mode, i.e., where you can't give a user input, then we recommend to use ServicePrincipalAuthentication or MsiAuthentication.\n",
      "Please refer to aka.ms/aml-notebook-auth for different authentication mechanisms in azureml-sdk.\n"
     ]
    }
   ],
   "source": [
    "from azure.identity import InteractiveBrowserCredential\n",
    "from azureml.core import Workspace\n",
    "from azure.ai.ml import MLClient\n",
    "from azureml.core.authentication import InteractiveLoginAuthentication\n",
    "\n",
    "subscription_id = '0a94de80-6d3b-49f2-b3e9-ec5818862801'#use your subscription id\n",
    "resource_group = 'buas-y2'#use your resource group\n",
    "workspace_name = 'Staff-Test'#use your workspace name\n",
    "\n",
    "credential = InteractiveBrowserCredential()\n",
    "\n",
    "# Get a handle to the workspace\n",
    "ml_client = MLClient(\n",
    "    credential=credential,\n",
    "    subscription_id=subscription_id,\n",
    "    resource_group_name=resource_group,\n",
    "    workspace_name=workspace_name,\n",
    ")\n",
    "\n",
    "# Log in using interactive Auth\n",
    "auth = InteractiveLoginAuthentication()\n",
    "\n",
    "# Declare workspace & datastore.\n",
    "workspace = Workspace(subscription_id=subscription_id,\n",
    "                      resource_group=resource_group,\n",
    "                      workspace_name=workspace_name,\n",
    "                      auth=auth,\n",
    "                      )"
   ]
  },
  {
   "attachments": {},
   "cell_type": "markdown",
   "metadata": {},
   "source": [
    "# Check Available Data, Compute, and Environments"
   ]
  },
  {
   "cell_type": "code",
   "execution_count": 27,
   "metadata": {},
   "outputs": [
    {
     "name": "stdout",
     "output_type": "stream",
     "text": [
      "Vultr : kubernetes\n",
      "adsai1 : kubernetes\n",
      "adsai0 : kubernetes\n",
      "tf-gpu-docker-2 : 2\n",
      "tf-gpu-docker : 2\n",
      "tf-curated : 2\n",
      "tf-gpu : 1\n",
      "basic-tf-gpu : 11\n",
      "basic-python : 1\n",
      "my-docker-environment : 1\n",
      "my_docker_environment : 1\n",
      "AzureML-ACPT-pytorch-1.13-py38-cuda11.7-gpu : 10\n"
     ]
    }
   ],
   "source": [
    "# List the compute targets\n",
    "compute_targets = ml_client.compute.list()\n",
    "for compute_target in compute_targets:\n",
    "    print(compute_target.name, \":\", compute_target.type)\n",
    "\n",
    "# List the environments\n",
    "environments = ml_client.environments.list()\n",
    "for environment in environments:\n",
    "    print(environment.name, \":\", environment.latest_version)"
   ]
  },
  {
   "attachments": {},
   "cell_type": "markdown",
   "metadata": {},
   "source": [
    "# Configure the Command Job"
   ]
  },
  {
   "cell_type": "code",
   "execution_count": 41,
   "metadata": {},
   "outputs": [
    {
     "name": "stderr",
     "output_type": "stream",
     "text": [
      "Warning: the provided asset name 'tf-gpu-docker-2' will not be used for anonymous registration\n",
      "Warning: the provided asset name 'tf-gpu-docker-2' will not be used for anonymous registration\n"
     ]
    },
    {
     "data": {
      "text/html": [
       "<table style=\"width:100%\"><tr><th>Experiment</th><th>Name</th><th>Type</th><th>Status</th><th>Details Page</th></tr><tr><td>Notebooks</td><td>good_spider_f803b3167z</td><td>command</td><td>Starting</td><td><a href=\"https://ml.azure.com/runs/good_spider_f803b3167z?wsid=/subscriptions/0a94de80-6d3b-49f2-b3e9-ec5818862801/resourcegroups/buas-y2/workspaces/Staff-Test&amp;tid=0a33589b-0036-4fe8-a829-3ed0926af886\" target=\"_blank\" rel=\"noopener\">Link to Azure Machine Learning studio</a></td></tr></table>"
      ],
      "text/plain": [
       "Command({'parameters': {}, 'init': False, 'name': 'good_spider_f803b3167z', 'type': 'command', 'status': 'Starting', 'log_files': None, 'description': None, 'tags': {}, 'properties': {'_azureml.ComputeTargetType': 'amlarctrain', '_azureml.ClusterName': 'adsai1', 'ContentSnapshotId': 'a7ef24ab-07e7-4d90-92b6-a36becd41ab9'}, 'print_as_yaml': False, 'id': '/subscriptions/0a94de80-6d3b-49f2-b3e9-ec5818862801/resourceGroups/buas-y2/providers/Microsoft.MachineLearningServices/workspaces/Staff-Test/jobs/good_spider_f803b3167z', 'Resource__source_path': '', 'base_path': 'c:\\\\Users\\\\deanv\\\\Dropbox\\\\0_Buas\\\\2023-2024\\\\y2D\\\\Azure Content Testing\\\\Example-App-master\\\\Example-App-master\\\\Notebooks', 'creation_context': <azure.ai.ml.entities._system_data.SystemData object at 0x00000233F91CBEF0>, 'serialize': <msrest.serialization.Serializer object at 0x00000233F7C9D4C0>, 'allowed_keys': {}, 'key_restriction': False, 'logger': <TraceLogger attr_dict (WARNING)>, 'display_name': 'number prediction', 'experiment_name': 'Notebooks', 'compute': 'adsai1', 'services': {'Tracking': {'endpoint': 'azureml://westeurope.api.azureml.ms/mlflow/v1.0/subscriptions/0a94de80-6d3b-49f2-b3e9-ec5818862801/resourceGroups/buas-y2/providers/Microsoft.MachineLearningServices/workspaces/Staff-Test?', 'type': 'Tracking'}, 'Studio': {'endpoint': 'https://ml.azure.com/runs/good_spider_f803b3167z?wsid=/subscriptions/0a94de80-6d3b-49f2-b3e9-ec5818862801/resourcegroups/buas-y2/workspaces/Staff-Test&tid=0a33589b-0036-4fe8-a829-3ed0926af886', 'type': 'Studio'}}, 'comment': None, 'job_inputs': {'data': {'type': 'uri_folder', 'path': 'azureml://subscriptions/0a94de80-6d3b-49f2-b3e9-ec5818862801/resourcegroups/buas-y2/workspaces/Staff-Test/datastores/workspaceblobstore/paths/mnist', 'mode': 'ro_mount'}, 'test_train_ratio': '0.2'}, 'job_outputs': {'default': {'type': 'uri_folder', 'path': 'azureml://datastores/workspaceartifactstore/ExperimentRun/dcid.good_spider_f803b3167z', 'mode': 'rw_mount'}}, 'inputs': {'data': <azure.ai.ml.entities._job.pipeline._io.base.NodeInput object at 0x00000233F7C9DC40>, 'test_train_ratio': <azure.ai.ml.entities._job.pipeline._io.base.NodeInput object at 0x00000233F7C9EA80>}, 'outputs': {'default': <azure.ai.ml.entities._job.pipeline._io.base.NodeOutput object at 0x00000233F7C9CC50>}, 'component': CommandComponent({'latest_version': None, 'intellectual_property': None, 'auto_increment_version': True, 'source': 'REMOTE.WORKSPACE.JOB', 'is_anonymous': False, 'auto_delete_setting': None, 'name': 'good_spider_f803b3167z', 'description': None, 'tags': {}, 'properties': {}, 'print_as_yaml': False, 'id': None, 'Resource__source_path': None, 'base_path': 'c:\\\\Users\\\\deanv\\\\Dropbox\\\\0_Buas\\\\2023-2024\\\\y2D\\\\Azure Content Testing\\\\Example-App-master\\\\Example-App-master\\\\Notebooks', 'creation_context': <azure.ai.ml.entities._system_data.SystemData object at 0x00000233F91CBEF0>, 'serialize': <msrest.serialization.Serializer object at 0x00000233F7C9D190>, 'command': 'python train.py --use-uri --data-path ${{inputs.data}} --test-train-ratio ${{inputs.test_train_ratio}}', 'code': '/subscriptions/0a94de80-6d3b-49f2-b3e9-ec5818862801/resourceGroups/buas-y2/providers/Microsoft.MachineLearningServices/workspaces/Staff-Test/codes/1a84345c-efa7-4f99-bf61-017948900265/versions/1', 'environment_variables': {}, 'environment': '/subscriptions/0a94de80-6d3b-49f2-b3e9-ec5818862801/resourceGroups/buas-y2/providers/Microsoft.MachineLearningServices/workspaces/Staff-Test/environments/tf-gpu-docker-2/versions/2', 'distribution': None, 'resources': None, 'queue_settings': None, 'version': None, 'schema': None, 'type': 'command', 'display_name': 'number prediction', 'is_deterministic': True, 'inputs': {'data': {'type': 'uri_folder', 'path': 'azureml://subscriptions/0a94de80-6d3b-49f2-b3e9-ec5818862801/resourcegroups/buas-y2/workspaces/Staff-Test/datastores/workspaceblobstore/paths/mnist', 'mode': 'ro_mount'}, 'test_train_ratio': {'type': 'string', 'default': '0.2'}}, 'outputs': {'default': {'type': 'uri_folder', 'path': 'azureml://datastores/workspaceartifactstore/ExperimentRun/dcid.good_spider_f803b3167z', 'mode': 'rw_mount'}}, 'yaml_str': None, 'other_parameter': {'status': 'Starting', 'parameters': {}}, 'additional_includes': []}), 'referenced_control_flow_node_instance_id': None, 'kwargs': {'services': {'Tracking': {'endpoint': 'azureml://westeurope.api.azureml.ms/mlflow/v1.0/subscriptions/0a94de80-6d3b-49f2-b3e9-ec5818862801/resourceGroups/buas-y2/providers/Microsoft.MachineLearningServices/workspaces/Staff-Test?', 'type': 'Tracking'}, 'Studio': {'endpoint': 'https://ml.azure.com/runs/good_spider_f803b3167z?wsid=/subscriptions/0a94de80-6d3b-49f2-b3e9-ec5818862801/resourcegroups/buas-y2/workspaces/Staff-Test&tid=0a33589b-0036-4fe8-a829-3ed0926af886', 'type': 'Studio'}}, 'status': 'Starting', 'creation_context': <azure.ai.ml.entities._system_data.SystemData object at 0x00000233F91CBEF0>}, 'instance_id': '96d2a4e7-47e5-4230-a2ef-db01499bf72f', 'source': 'BUILDER', 'validate_required_input_not_provided': True, 'limits': None, 'identity': None, 'distribution': None, 'environment_variables': {}, 'environment': 'tf-gpu-docker-2:2', 'resources': {'instance_count': 1, 'shm_size': '2g'}, 'queue_settings': None, 'swept': False})"
      ]
     },
     "execution_count": 41,
     "metadata": {},
     "output_type": "execute_result"
    }
   ],
   "source": [
    "from azure.ai.ml import command\n",
    "from azure.ai.ml import Input\n",
    "\n",
    "# Get the environment and compute target\n",
    "# Replace with your environment and compute target from the previous step\n",
    "env = ml_client.environments.get(\"tf-gpu-docker-2\", 2)  # 📝 replace with your environment name and version\n",
    "compute_target = \"adsai1\"  # 📝 replace with your compute target\n",
    "# This is the path to the data folder in the datastore, click on the data asset in the Azure ML portal to get the path\n",
    "path = \"azureml://subscriptions/0a94de80-6d3b-49f2-b3e9-ec5818862801/resourcegroups/buas-y2/workspaces/Staff-Test/datastores/workspaceblobstore/paths/mnist\"#\"azureml://subscriptions/0a94de80-6d3b-49f2-b3e9-ec5818862801/resourcegroups/dean-sandbox/workspaces/adsaimlsandbox/datastores/datastore/paths/mnist/train\"\n",
    "\n",
    "# Setup the command job\n",
    "job = command(\n",
    "    inputs=dict(\n",
    "        data=Input(type=\"uri_folder\", description=\"Data asset URI\", path=path),\n",
    "        test_train_ratio=0.2,\n",
    "    ),\n",
    "    code=\"../src/number_predictor\",  # location of source code\n",
    "    command=\"python train.py --use-uri --data-path ${{inputs.data}} --test-train-ratio ${{inputs.test_train_ratio}}\",\n",
    "    environment=env,\n",
    "    compute=compute_target, #delete this line to use serverless compute\n",
    "    display_name=\"number prediction\",\n",
    ")\n",
    "\n",
    "ml_client.create_or_update(job)"
   ]
  },
  {
   "cell_type": "code",
   "execution_count": 8,
   "metadata": {},
   "outputs": [],
   "source": [
    "import os\n",
    "os.getcwd()\n",
    "os.chdir('c:\\\\Users\\\\deanv\\\\Dropbox\\\\0_Buas\\\\2023-2024\\\\y2D\\\\Azure Content Testing\\\\Example-App-master\\\\Example-App-master')"
   ]
  },
  {
   "cell_type": "code",
   "execution_count": null,
   "metadata": {},
   "outputs": [],
   "source": [
    "from azure.ai.ml import command\n",
    "\n",
    "job = command(\n",
    "    code=\"./\",  # location of source code\n",
    "    command=f\"python train.py --gpu --data_source azure --azure_dataset {train_set_name}\",\n",
    "    environment=\"aml-torch-env-2:1.0.1\",\n",
    "    compute='igad2',\t\n",
    "    experiment_name=\"train_model_dean\",\n",
    "    #instance_type=\"medinstancetypename\",\n",
    ")\n",
    "\n",
    "ml_client.create_or_update(job)"
   ]
  },
  {
   "attachments": {},
   "cell_type": "markdown",
   "metadata": {},
   "source": [
    "# Submit the Command Job"
   ]
  },
  {
   "cell_type": "code",
   "execution_count": 13,
   "metadata": {},
   "outputs": [
    {
     "name": "stderr",
     "output_type": "stream",
     "text": [
      "Warning: the provided asset name 'basic-tf-gpu' will not be used for anonymous registration\n",
      "Warning: the provided asset name 'basic-tf-gpu' will not be used for anonymous registration\n"
     ]
    }
   ],
   "source": [
    "\n",
    "from azure.ai.ml import command, Input\n",
    "from azure.ai.ml.constants import AssetTypes, InputOutputModes\n",
    "\n",
    "data_asset = ml_client.data.get(\"digits_train\", version=\"1\")\n",
    "\n",
    "# to successfully create a job, customize the parameters below based on your workspace resources\n",
    "job = command(\n",
    "        command=\"python train.py --use-uri --data-path $ --test-train-ratio $\",\n",
    "        inputs=dict(\n",
    "            data = Input(path=data_asset.id,\n",
    "                type=AssetTypes.MLTABLE,\n",
    "                mode=InputOutputModes.RO_MOUNT\n",
    "            ),\n",
    "            test_train_ratio=0.2,\n",
    "        ),\n",
    "        code=\"./src/number_predictor\",\n",
    "        environment=env,\n",
    "        compute=compute_target,\n",
    "        display_name=\"number prediction\",\n",
    "      )\n",
    "returned_job = ml_client.jobs.create_or_update(job)"
   ]
  },
  {
   "cell_type": "code",
   "execution_count": null,
   "metadata": {},
   "outputs": [],
   "source": []
  },
  {
   "cell_type": "code",
   "execution_count": null,
   "metadata": {},
   "outputs": [],
   "source": []
  }
 ],
 "metadata": {
  "kernelspec": {
   "display_name": ".venv",
   "language": "python",
   "name": "python3"
  },
  "language_info": {
   "codemirror_mode": {
    "name": "ipython",
    "version": 3
   },
   "file_extension": ".py",
   "mimetype": "text/x-python",
   "name": "python",
   "nbconvert_exporter": "python",
   "pygments_lexer": "ipython3",
   "version": "3.12.0"
  },
  "orig_nbformat": 4
 },
 "nbformat": 4,
 "nbformat_minor": 2
}
