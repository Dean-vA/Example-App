{
 "cells": [
  {
   "attachments": {},
   "cell_type": "markdown",
   "metadata": {},
   "source": [
    "# Imports and Define Base API URL"
   ]
  },
  {
   "cell_type": "code",
   "execution_count": null,
   "metadata": {},
   "outputs": [],
   "source": [
    "import requests\n",
    "import json\n",
    "\n",
    "# The base URL of your API. Replace with your actual API's URL if different.\n",
    "base_url = 'http://localhost:8000' # Replace with your URL"
   ]
  },
  {
   "attachments": {},
   "cell_type": "markdown",
   "metadata": {},
   "source": [
    "# Example Root API Call"
   ]
  },
  {
   "cell_type": "code",
   "execution_count": 1,
   "metadata": {},
   "outputs": [
    {
     "name": "stdout",
     "output_type": "stream",
     "text": [
      "Response: {'Hello': 'World'}\n"
     ]
    }
   ],
   "source": [
    "# Test the root endpoint\n",
    "response = requests.get(f'{base_url}/')\n",
    "print(f'Response: {response.json()}')"
   ]
  },
  {
   "attachments": {},
   "cell_type": "markdown",
   "metadata": {},
   "source": [
    "# Example Path Endpoint"
   ]
  },
  {
   "cell_type": "code",
   "execution_count": 2,
   "metadata": {},
   "outputs": [
    {
     "name": "stdout",
     "output_type": "stream",
     "text": [
      "Response: {'Hello': 'John'}\n"
     ]
    }
   ],
   "source": [
    "# Test the hello_name endpoint\n",
    "name = 'John'\n",
    "response = requests.get(f'{base_url}/hello/{name}')\n",
    "print(f'Response: {response.json()}')"
   ]
  },
  {
   "attachments": {},
   "cell_type": "markdown",
   "metadata": {},
   "source": [
    "# Predict Endpoint\n",
    "Good for local testing"
   ]
  },
  {
   "cell_type": "code",
   "execution_count": 3,
   "metadata": {},
   "outputs": [
    {
     "name": "stdout",
     "output_type": "stream",
     "text": [
      "Response: {'prediction': 4, 'confidence': 99}\n"
     ]
    }
   ],
   "source": [
    "# Test the predict endpoint\n",
    "# You need to replace this with the actual path to your image\n",
    "image_path = './data/test_image.png'\n",
    "response = requests.post(f'{base_url}/predict/', data=json.dumps({'path_to_img': image_path}), headers={'Content-Type': 'application/json'})\n",
    "print(f'Response: {response.json()}')\n"
   ]
  },
  {
   "cell_type": "code",
   "execution_count": 59,
   "metadata": {},
   "outputs": [
    {
     "name": "stdout",
     "output_type": "stream",
     "text": [
      "Response: {'prediction': 3, 'confidence': 84}\n"
     ]
    }
   ],
   "source": [
    "# Test the predict endpoint\n",
    "# You need to replace this with the actual path to your image\n",
    "image_path = './data/test_image5.png'\n",
    "response = requests.post(f'{base_url}/predict/', data=json.dumps({'path_to_img': image_path}), headers={'Content-Type': 'application/json'})\n",
    "print(f'Response: {response.json()}')"
   ]
  },
  {
   "attachments": {},
   "cell_type": "markdown",
   "metadata": {},
   "source": [
    "# Predict File Endpoint"
   ]
  },
  {
   "cell_type": "code",
   "execution_count": 13,
   "metadata": {},
   "outputs": [
    {
     "name": "stdout",
     "output_type": "stream",
     "text": [
      "{'prediction': 4, 'confidence': 99}\n"
     ]
    }
   ],
   "source": [
    "# Define the URL of the API endpoint\n",
    "url = f'{base_url}/predict_file/'\n",
    "\n",
    "# Open the image file in binary mode\n",
    "with open('./data/4.png', 'rb') as f:\n",
    "    file = {'image_file': f}\n",
    "\n",
    "    # Send the POST request\n",
    "    response = requests.post(url, files=file)\n",
    "\n",
    "# Print the response\n",
    "print(response.json())"
   ]
  }
 ],
 "metadata": {
  "kernelspec": {
   "display_name": ".venv",
   "language": "python",
   "name": "python3"
  },
  "language_info": {
   "codemirror_mode": {
    "name": "ipython",
    "version": 3
   },
   "file_extension": ".py",
   "mimetype": "text/x-python",
   "name": "python",
   "nbconvert_exporter": "python",
   "pygments_lexer": "ipython3",
   "version": "3.9.12"
  },
  "orig_nbformat": 4
 },
 "nbformat": 4,
 "nbformat_minor": 2
}
