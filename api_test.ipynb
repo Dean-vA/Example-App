{
 "cells": [
  {
   "cell_type": "code",
   "execution_count": 53,
   "metadata": {},
   "outputs": [
    {
     "name": "stdout",
     "output_type": "stream",
     "text": [
      "Response: {'Hello': 'World'}\n"
     ]
    }
   ],
   "source": [
    "import requests\n",
    "import json\n",
    "\n",
    "# The base URL of your API. Replace with your actual API's URL if different.\n",
    "base_url = 'http://localhost:8000'\n",
    "\n",
    "# Test the root endpoint\n",
    "response = requests.get(f'{base_url}/')\n",
    "print(f'Response: {response.json()}')"
   ]
  },
  {
   "cell_type": "code",
   "execution_count": 54,
   "metadata": {},
   "outputs": [
    {
     "name": "stdout",
     "output_type": "stream",
     "text": [
      "Response: {'Hello': 'John'}\n"
     ]
    }
   ],
   "source": [
    "# Test the hello_name endpoint\n",
    "name = 'John'\n",
    "response = requests.get(f'{base_url}/hello/{name}')\n",
    "print(f'Response: {response.json()}')"
   ]
  },
  {
   "cell_type": "code",
   "execution_count": 55,
   "metadata": {},
   "outputs": [
    {
     "name": "stdout",
     "output_type": "stream",
     "text": [
      "Response: {'prediction': 4, 'confidence': 99}\n"
     ]
    }
   ],
   "source": [
    "# Test the predict endpoint\n",
    "# You need to replace this with the actual path to your image\n",
    "image_path = 'C:/Users/aswegen.d/Dropbox/0_Buas/Y2BlockD/Example App/data/test_image.png'\n",
    "response = requests.post(f'{base_url}/predict/', data=json.dumps({'path_to_img': image_path}), headers={'Content-Type': 'application/json'})\n",
    "print(f'Response: {response.json()}')\n"
   ]
  },
  {
   "cell_type": "code",
   "execution_count": 56,
   "metadata": {},
   "outputs": [
    {
     "name": "stdout",
     "output_type": "stream",
     "text": [
      "Response: {'prediction': 3, 'confidence': 36}\n"
     ]
    }
   ],
   "source": [
    "# Test the predict endpoint\n",
    "# You need to replace this with the actual path to your image\n",
    "image_path = 'C:/Users/aswegen.d/Dropbox/0_Buas/Y2BlockD/Example App/data/test_image2.jpg'\n",
    "response = requests.post(f'{base_url}/predict/', data=json.dumps({'path_to_img': image_path}), headers={'Content-Type': 'application/json'})\n",
    "print(f'Response: {response.json()}')"
   ]
  },
  {
   "cell_type": "code",
   "execution_count": 57,
   "metadata": {},
   "outputs": [
    {
     "name": "stdout",
     "output_type": "stream",
     "text": [
      "Response: {'prediction': 3, 'confidence': 53}\n"
     ]
    }
   ],
   "source": [
    "# Test the predict endpoint\n",
    "# You need to replace this with the actual path to your image\n",
    "image_path = 'C:/Users/aswegen.d/Dropbox/0_Buas/Y2BlockD/Example App/data/test_image3.jpg'\n",
    "response = requests.post(f'{base_url}/predict/', data=json.dumps({'path_to_img': image_path}), headers={'Content-Type': 'application/json'})\n",
    "print(f'Response: {response.json()}')"
   ]
  },
  {
   "cell_type": "code",
   "execution_count": 58,
   "metadata": {},
   "outputs": [
    {
     "name": "stdout",
     "output_type": "stream",
     "text": [
      "Response: {'prediction': 0, 'confidence': 99}\n"
     ]
    }
   ],
   "source": [
    "# Test the predict endpoint\n",
    "# You need to replace this with the actual path to your image\n",
    "image_path = 'C:/Users/aswegen.d/Dropbox/0_Buas/Y2BlockD/Example App/data/MNIST_44_0.png'\n",
    "response = requests.post(f'{base_url}/predict/', data=json.dumps({'path_to_img': image_path}), headers={'Content-Type': 'application/json'})\n",
    "print(f'Response: {response.json()}')"
   ]
  },
  {
   "cell_type": "code",
   "execution_count": 59,
   "metadata": {},
   "outputs": [
    {
     "name": "stdout",
     "output_type": "stream",
     "text": [
      "Response: {'prediction': 3, 'confidence': 84}\n"
     ]
    }
   ],
   "source": [
    "# Test the predict endpoint\n",
    "# You need to replace this with the actual path to your image\n",
    "image_path = 'C:/Users/aswegen.d/Dropbox/0_Buas/Y2BlockD/Example App/data/test_image5.png'\n",
    "response = requests.post(f'{base_url}/predict/', data=json.dumps({'path_to_img': image_path}), headers={'Content-Type': 'application/json'})\n",
    "print(f'Response: {response.json()}')"
   ]
  },
  {
   "cell_type": "code",
   "execution_count": null,
   "metadata": {},
   "outputs": [],
   "source": []
  }
 ],
 "metadata": {
  "kernelspec": {
   "display_name": ".venv",
   "language": "python",
   "name": "python3"
  },
  "language_info": {
   "codemirror_mode": {
    "name": "ipython",
    "version": 3
   },
   "file_extension": ".py",
   "mimetype": "text/x-python",
   "name": "python",
   "nbconvert_exporter": "python",
   "pygments_lexer": "ipython3",
   "version": "3.9.12"
  },
  "orig_nbformat": 4
 },
 "nbformat": 4,
 "nbformat_minor": 2
}
